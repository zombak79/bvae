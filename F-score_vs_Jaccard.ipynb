{
 "cells": [
  {
   "cell_type": "markdown",
   "id": "paperback-dream",
   "metadata": {},
   "source": [
    "# Visualisations of the Jaccard similarity vs. F-score"
   ]
  },
  {
   "cell_type": "code",
   "execution_count": 1,
   "id": "former-proposal",
   "metadata": {},
   "outputs": [],
   "source": [
    "!mkdir -p images"
   ]
  },
  {
   "cell_type": "code",
   "execution_count": 2,
   "id": "victorian-frontier",
   "metadata": {},
   "outputs": [],
   "source": [
    "import numpy as np\n",
    "import pandas as pd\n",
    "import tensorflow as tf\n",
    "import sys"
   ]
  },
  {
   "cell_type": "code",
   "execution_count": 3,
   "id": "nonprofit-customs",
   "metadata": {
    "code_folding": [
     0
    ]
   },
   "outputs": [],
   "source": [
    "# functions for calculating metrics\n",
    "\n",
    "EPSILON = 1e-30\n",
    "\n",
    "def tf_precision_vec(true_labels, pred_labels):\n",
    "    \n",
    "    a = tf.stack([tf.math.round(pred_labels),true_labels], axis=1)\n",
    "    good = tf.math.reduce_sum(\n",
    "        tf.math.reduce_min(a, axis=1),\n",
    "        axis=1\n",
    "    )\n",
    "    bad = tf.math.reduce_sum(tf.math.abs(a[:,0,:]-a[:,1,:]),axis=1)\n",
    "    \n",
    "    trues = tf.math.reduce_sum(true_labels, axis=1)\n",
    "    predicted = tf.math.reduce_sum(tf.math.round(pred_labels), axis=1)\n",
    "    \n",
    "    ugly = good/(predicted+EPSILON)\n",
    "    \n",
    "    return ugly\n",
    "\n",
    "def tf_recall_vec(true_labels, pred_labels):\n",
    "    \n",
    "    a = tf.stack([tf.math.round(pred_labels),true_labels], axis=1)\n",
    "    good = tf.math.reduce_sum(\n",
    "        tf.math.reduce_min(a, axis=1),\n",
    "        axis=1\n",
    "    )\n",
    "    bad = tf.math.reduce_sum(tf.math.abs(a[:,0,:]-a[:,1,:]),axis=1)\n",
    "    \n",
    "    trues = tf.math.reduce_sum(true_labels, axis=1)\n",
    "    predicted = tf.math.reduce_sum(tf.math.round(pred_labels), axis=1)\n",
    "    \n",
    "    ugly = good/(trues+EPSILON)\n",
    "    \n",
    "    return ugly\n",
    "\n",
    "def tf_f1_score_vec(true_labels, pred_labels):\n",
    "    \n",
    "    a = tf.stack([tf.math.round(pred_labels),true_labels], axis=1)\n",
    "    good = tf.math.reduce_sum(\n",
    "        tf.math.reduce_min(a, axis=1),\n",
    "        axis=1\n",
    "    )\n",
    "    bad = tf.math.reduce_sum(tf.math.abs(a[:,0,:]-a[:,1,:]),axis=1)\n",
    "    \n",
    "    trues = tf.math.reduce_sum(true_labels, axis=1)\n",
    "    predicted = tf.math.reduce_sum(tf.math.round(pred_labels), axis=1)\n",
    "    \n",
    "    recall = good/(trues+EPSILON)\n",
    "    precision = good/(predicted+EPSILON)\n",
    "    \n",
    "    f1 = 2*(precision*recall)/(precision+recall+EPSILON)\n",
    "    \n",
    "    return f1\n",
    "\n",
    "def tf_jaccard_vec(true_labels, pred_labels):\n",
    "    \n",
    "    a = tf.stack([tf.math.round(pred_labels),true_labels], axis=1)\n",
    "    good = tf.math.reduce_sum(\n",
    "        tf.math.reduce_min(a, axis=1),\n",
    "        axis=1\n",
    "    )\n",
    "    bad = tf.math.reduce_sum(tf.math.abs(a[:,0,:]-a[:,1,:]),axis=1)\n",
    "    ugly = good/(good+bad+EPSILON)\n",
    "    \n",
    "    return ugly\n",
    "\n",
    "def good_vec(true_labels, pred_labels):\n",
    "    \n",
    "    a = tf.stack([tf.math.round(pred_labels),true_labels], axis=1)\n",
    "    good = tf.math.reduce_sum(\n",
    "        tf.math.reduce_min(a, axis=1),\n",
    "        axis=1\n",
    "    )\n",
    "    bad = tf.math.reduce_sum(tf.math.abs(a[:,0,:]-a[:,1,:]),axis=1)\n",
    "    \n",
    "    trues = tf.math.reduce_sum(true_labels, axis=1)\n",
    "    predicted = tf.math.reduce_sum(tf.math.round(pred_labels), axis=1)\n",
    "    \n",
    "    ugly = good/(trues+EPSILON)\n",
    "    \n",
    "    return good\n",
    "\n",
    "def bad_vec(true_labels, pred_labels):\n",
    "    \n",
    "    a = tf.stack([tf.math.round(pred_labels),true_labels], axis=1)\n",
    "    good = tf.math.reduce_sum(\n",
    "        tf.math.reduce_min(a, axis=1),\n",
    "        axis=1\n",
    "    )\n",
    "    bad = tf.math.reduce_sum(tf.math.abs(a[:,0,:]-a[:,1,:]),axis=1)\n",
    "    \n",
    "    trues = tf.math.reduce_sum(true_labels, axis=1)\n",
    "    predicted = tf.math.reduce_sum(tf.math.round(pred_labels), axis=1)\n",
    "    \n",
    "    ugly = good/(trues+EPSILON)\n",
    "    \n",
    "    return bad"
   ]
  },
  {
   "cell_type": "code",
   "execution_count": 4,
   "id": "continent-stations",
   "metadata": {
    "code_folding": [
     0
    ]
   },
   "outputs": [],
   "source": [
    "# prepare data for demonstaration\n",
    "\n",
    "def test_basket(tp, tn, fp=0, fn=0):\n",
    "    basket_tp = [1. for x in  range(tp)]\n",
    "    basket_tn = [0. for x in  range(tn)]\n",
    "    basket_fp = [1. for x in  range(fp)]\n",
    "    basket_fn = [0. for x in  range(fn)]\n",
    "    \n",
    "\n",
    "    return basket_tp+basket_tn+basket_fp+basket_fn\n",
    "\n",
    "test_baskets = []\n",
    "\n",
    "for i in range(101):\n",
    "    test_baskets.append(test_basket(i, 100-i,))\n",
    "    \n",
    "\n",
    "\n",
    "true_baskets = []\n",
    "\n",
    "for i in range(101):\n",
    "    true_baskets.append([0. if x>=10 else 1. for x in range(100)])"
   ]
  },
  {
   "cell_type": "code",
   "execution_count": 5,
   "id": "jewish-clear",
   "metadata": {},
   "outputs": [
    {
     "name": "stdout",
     "output_type": "stream",
     "text": [
      "true baskets for demonstration on too smaller predicted baskets:\n",
      "[[1 1 1 1 1 1 1 1 1 1]\n",
      " [1 1 1 1 1 1 1 1 1 1]\n",
      " [1 1 1 1 1 1 1 1 1 1]\n",
      " [1 1 1 1 1 1 1 1 1 1]\n",
      " [1 1 1 1 1 1 1 1 1 1]\n",
      " [1 1 1 1 1 1 1 1 1 1]\n",
      " [1 1 1 1 1 1 1 1 1 1]\n",
      " [1 1 1 1 1 1 1 1 1 1]\n",
      " [1 1 1 1 1 1 1 1 1 1]\n",
      " [1 1 1 1 1 1 1 1 1 1]\n",
      " [1 1 1 1 1 1 1 1 1 1]]\n",
      "predicted baskets for demonstration on too smaller predicted baskets:\n",
      "[[0 0 0 0 0 0 0 0 0 0]\n",
      " [1 0 0 0 0 0 0 0 0 0]\n",
      " [1 1 0 0 0 0 0 0 0 0]\n",
      " [1 1 1 0 0 0 0 0 0 0]\n",
      " [1 1 1 1 0 0 0 0 0 0]\n",
      " [1 1 1 1 1 0 0 0 0 0]\n",
      " [1 1 1 1 1 1 0 0 0 0]\n",
      " [1 1 1 1 1 1 1 0 0 0]\n",
      " [1 1 1 1 1 1 1 1 0 0]\n",
      " [1 1 1 1 1 1 1 1 1 0]\n",
      " [1 1 1 1 1 1 1 1 1 1]]\n"
     ]
    }
   ],
   "source": [
    "print(\"true baskets for demonstration on too smaller predicted baskets:\")\n",
    "np_true_baskets = np.array(true_baskets)[:11, :10]\n",
    "# show true baskets - ints are there for better readability\n",
    "print(np_true_baskets.astype(int))\n",
    "print(\"predicted baskets for demonstration on too smaller predicted baskets:\")\n",
    "np_test_baskets = np.array(test_baskets)[:11, :10]\n",
    "# show test baskets - ints are there for better readability\n",
    "print(np_test_baskets.astype(int))"
   ]
  },
  {
   "cell_type": "markdown",
   "id": "automated-topic",
   "metadata": {},
   "source": [
    "For predicted baskets which are smaller than ground true baskets precision will be high, but recall small. This imbalance between recall and precision means, that F-score overestimates accuracy."
   ]
  },
  {
   "cell_type": "code",
   "execution_count": 6,
   "id": "known-malaysia",
   "metadata": {},
   "outputs": [
    {
     "data": {
      "image/png": "[encoded data removed]",
      "text/plain": [
       "<Figure size 432x288 with 1 Axes>"
      ]
     },
     "metadata": {
      "needs_background": "light"
     },
     "output_type": "display_data"
    }
   ],
   "source": [
    "ax = pd.DataFrame(\n",
    "    (\n",
    "        list(tf_f1_score_vec(np_true_baskets, np_test_baskets).numpy()),\n",
    "        list(tf_jaccard_vec(np_true_baskets, np_test_baskets).numpy()),\n",
    "        list(tf_precision_vec(np_true_baskets, np_test_baskets).numpy()),\n",
    "        list(tf_recall_vec(np_true_baskets, np_test_baskets).numpy()),\n",
    "\n",
    "    ),\n",
    "    index=['F-score', 'Jaccard similarity', 'Precision', 'Recall'],\n",
    "    columns=[str(x[1])+'/'+str(x[1]+x[0]) for x in zip(\n",
    "        list(bad_vec(np_true_baskets, np_test_baskets).numpy().astype(int)),\n",
    "        list(good_vec(np_true_baskets, np_test_baskets).numpy().astype(int))\n",
    "    )]\n",
    ").transpose()[['F-score', 'Jaccard similarity']].plot(\n",
    "    figsize=(6, 4),\n",
    "    xticks=range(11),\n",
    "    yticks=np.array(range(0, 11))/10,\n",
    "    xlabel=\"Correctly predicted out of total predicted items.\\n Ground truth basket contains 10 items.\",\n",
    "    ylabel=\"Accuracy\",\n",
    "    style=['--', '-'],\n",
    "    color=['orangered', 'darkslateblue'],\n",
    "    grid=True\n",
    ")\n",
    "ax.figure.savefig('images/fsc_jac_small-baskets.svg')"
   ]
  },
  {
   "cell_type": "code",
   "execution_count": 7,
   "id": "systematic-bermuda",
   "metadata": {},
   "outputs": [
    {
     "name": "stdout",
     "output_type": "stream",
     "text": [
      "size of true baskets for demonstration on bigger than true predicted baskets:\n",
      "[10 10 10 10 10 10 10 10 10 10]\n",
      "total size of predicted items in baskets for demonstration on too bigger than true predicted baskets:\n",
      "[ 10  20  30  40  50  60  70  80  90 100]\n"
     ]
    }
   ],
   "source": [
    "print(\"size of true baskets for demonstration on bigger than true predicted baskets:\")\n",
    "np_true_baskets = np.array(true_baskets)[10:, :]\n",
    "# show true baskets - ints are there for better readability\n",
    "print(np_true_baskets[::10].astype(int).sum(axis=1))\n",
    "print(\"total size of predicted items in baskets for demonstration on too bigger than true predicted baskets:\")\n",
    "np_test_baskets = np.array(test_baskets)[10:, :]\n",
    "# show test baskets - ints are there for better readability\n",
    "print(np_test_baskets[::10].astype(int).sum(axis=1))"
   ]
  },
  {
   "cell_type": "markdown",
   "id": "blond-yorkshire",
   "metadata": {},
   "source": [
    "For predicted baskets which are bigger than ground true baskets recall will be high, but precision small. This imbalance between recall and precision means, that again F-score overestimates accuracy."
   ]
  },
  {
   "cell_type": "code",
   "execution_count": 8,
   "id": "authentic-child",
   "metadata": {},
   "outputs": [
    {
     "data": {
      "image/png": "[encoded data removed]",
      "text/plain": [
       "<Figure size 432x288 with 1 Axes>"
      ]
     },
     "metadata": {
      "needs_background": "light"
     },
     "output_type": "display_data"
    }
   ],
   "source": [
    "ax = pd.DataFrame(\n",
    "    (\n",
    "        list(tf_f1_score_vec(np_true_baskets, np_test_baskets).numpy()),\n",
    "        list(tf_jaccard_vec(np_true_baskets, np_test_baskets).numpy()),\n",
    "        list(tf_precision_vec(np_true_baskets, np_test_baskets).numpy()),\n",
    "        list(tf_recall_vec(np_true_baskets, np_test_baskets).numpy()),\n",
    "\n",
    "    ),\n",
    "    index=['F-score', 'Jaccard similarity', 'Precision', 'Recall'],\n",
    "    columns=[str(x[1])+'/'+str(x[1]+x[0]) for x in zip(\n",
    "        list(bad_vec(np_true_baskets, np_test_baskets).numpy().astype(int)),\n",
    "        list(good_vec(np_true_baskets, np_test_baskets).numpy().astype(int))\n",
    "    )]\n",
    ").transpose()[['F-score', 'Jaccard similarity']].plot(\n",
    "    figsize=(6, 4),\n",
    "    xticks=range(0, 100, 10),\n",
    "    yticks=np.array(range(0, 11))/10,\n",
    "    xlabel=\"Correctly predicted out of total predicted items.\\n Ground truth basket contains 10 items.\",\n",
    "    ylabel=\"Accuracy\",\n",
    "    style=['--', '-'],\n",
    "    color=['orangered', 'darkslateblue'],\n",
    "    grid=True\n",
    ")\n",
    "ax.figure.savefig('images/fsc_jac_big-baskets.svg')"
   ]
  },
  {
   "cell_type": "code",
   "execution_count": null,
   "id": "metric-furniture",
   "metadata": {},
   "outputs": [],
   "source": []
  }
 ],
 "metadata": {
  "kernelspec": {
   "display_name": "Python 3",
   "language": "python",
   "name": "python3"
  },
  "language_info": {
   "codemirror_mode": {
    "name": "ipython",
    "version": 3
   },
   "file_extension": ".py",
   "mimetype": "text/x-python",
   "name": "python",
   "nbconvert_exporter": "python",
   "pygments_lexer": "ipython3",
   "version": "3.6.9"
  }
 },
 "nbformat": 4,
 "nbformat_minor": 5
}
